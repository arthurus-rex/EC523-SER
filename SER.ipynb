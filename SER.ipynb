{
 "cells": [
  {
   "cell_type": "code",
   "execution_count": 18,
   "id": "2711227f",
   "metadata": {},
   "outputs": [
    {
     "name": "stdout",
     "output_type": "stream",
     "text": [
      "Defaulting to user installation because normal site-packages is not writeable\n",
      "Requirement already satisfied: librosa in /share/pkg.8/python3/3.10.12/install/lib/python3.10/site-packages (0.10.0.post2)\n",
      "Requirement already satisfied: audioread>=2.1.9 in /share/pkg.8/python3/3.10.12/install/lib/python3.10/site-packages (from librosa) (3.0.0)\n",
      "Requirement already satisfied: numpy!=1.22.0,!=1.22.1,!=1.22.2,>=1.20.3 in /share/pkg.8/python3/3.10.12/install/lib/python3.10/site-packages (from librosa) (1.24.4)\n",
      "Requirement already satisfied: scipy>=1.2.0 in /share/pkg.8/python3/3.10.12/install/lib/python3.10/site-packages (from librosa) (1.11.1)\n",
      "Requirement already satisfied: scikit-learn>=0.20.0 in /share/pkg.8/python3/3.10.12/install/lib/python3.10/site-packages (from librosa) (1.3.0)\n",
      "Requirement already satisfied: joblib>=0.14 in /share/pkg.8/python3/3.10.12/install/lib/python3.10/site-packages (from librosa) (1.3.1)\n",
      "Requirement already satisfied: decorator>=4.3.0 in /share/pkg.8/python3/3.10.12/install/lib/python3.10/site-packages (from librosa) (5.1.1)\n",
      "Requirement already satisfied: numba>=0.51.0 in /share/pkg.8/python3/3.10.12/install/lib/python3.10/site-packages (from librosa) (0.57.1)\n",
      "Requirement already satisfied: soundfile>=0.12.1 in /share/pkg.8/python3/3.10.12/install/lib/python3.10/site-packages (from librosa) (0.12.1)\n",
      "Requirement already satisfied: pooch<1.7,>=1.0 in /share/pkg.8/python3/3.10.12/install/lib/python3.10/site-packages (from librosa) (1.6.0)\n",
      "Requirement already satisfied: soxr>=0.3.2 in /share/pkg.8/python3/3.10.12/install/lib/python3.10/site-packages (from librosa) (0.3.5)\n",
      "Requirement already satisfied: typing-extensions>=4.1.1 in /share/pkg.7/pytorch/1.13.1/install/lib/python3.10/site-packages (from librosa) (4.4.0)\n",
      "Requirement already satisfied: lazy-loader>=0.1 in /share/pkg.8/python3/3.10.12/install/lib/python3.10/site-packages (from librosa) (0.3)\n",
      "Requirement already satisfied: msgpack>=1.0 in /share/pkg.8/python3/3.10.12/install/lib/python3.10/site-packages (from librosa) (1.0.5)\n",
      "Requirement already satisfied: llvmlite<0.41,>=0.40.0dev0 in /share/pkg.8/python3/3.10.12/install/lib/python3.10/site-packages (from numba>=0.51.0->librosa) (0.40.1)\n",
      "Requirement already satisfied: appdirs>=1.3.0 in /share/pkg.8/python3/3.10.12/install/lib/python3.10/site-packages (from pooch<1.7,>=1.0->librosa) (1.4.4)\n",
      "Requirement already satisfied: packaging>=20.0 in /share/pkg.8/python3/3.10.12/install/lib/python3.10/site-packages (from pooch<1.7,>=1.0->librosa) (23.1)\n",
      "Requirement already satisfied: requests>=2.19.0 in /share/pkg.8/python3/3.10.12/install/lib/python3.10/site-packages (from pooch<1.7,>=1.0->librosa) (2.31.0)\n",
      "Requirement already satisfied: threadpoolctl>=2.0.0 in /share/pkg.8/python3/3.10.12/install/lib/python3.10/site-packages (from scikit-learn>=0.20.0->librosa) (3.2.0)\n",
      "Requirement already satisfied: cffi>=1.0 in /share/pkg.8/python3/3.10.12/install/lib/python3.10/site-packages (from soundfile>=0.12.1->librosa) (1.15.1)\n",
      "Requirement already satisfied: pycparser in /share/pkg.8/python3/3.10.12/install/lib/python3.10/site-packages (from cffi>=1.0->soundfile>=0.12.1->librosa) (2.21)\n",
      "Requirement already satisfied: charset-normalizer<4,>=2 in /share/pkg.8/python3/3.10.12/install/lib/python3.10/site-packages (from requests>=2.19.0->pooch<1.7,>=1.0->librosa) (3.2.0)\n",
      "Requirement already satisfied: idna<4,>=2.5 in /share/pkg.8/python3/3.10.12/install/lib/python3.10/site-packages (from requests>=2.19.0->pooch<1.7,>=1.0->librosa) (3.4)\n",
      "Requirement already satisfied: urllib3<3,>=1.21.1 in /share/pkg.8/python3/3.10.12/install/lib/python3.10/site-packages (from requests>=2.19.0->pooch<1.7,>=1.0->librosa) (1.26.16)\n",
      "Requirement already satisfied: certifi>=2017.4.17 in /share/pkg.8/python3/3.10.12/install/lib/python3.10/site-packages (from requests>=2.19.0->pooch<1.7,>=1.0->librosa) (2023.5.7)\n",
      "cuda\n"
     ]
    }
   ],
   "source": [
    "# Import libraries\n",
    "import torch\n",
    "import torchaudio\n",
    "from torch.utils.data import Dataset, DataLoader\n",
    "import torch.nn as nn\n",
    "import torch.nn.functional as F\n",
    "import IPython\n",
    "import matplotlib.pyplot as plt\n",
    "from torchaudio.utils import download_asset\n",
    "import numpy as np\n",
    "\n",
    "!pip install librosa\n",
    "import librosa\n",
    "\n",
    "device = torch.device(\"cuda\" if torch.cuda.is_available() else \"cpu\")\n",
    "print(device)"
   ]
  },
  {
   "cell_type": "code",
   "execution_count": 12,
   "id": "48199cbd",
   "metadata": {},
   "outputs": [
    {
     "name": "stdout",
     "output_type": "stream",
     "text": [
      "Sample rate:  16000\n",
      "Labels:  ('-', '|', 'E', 'T', 'A', 'O', 'N', 'I', 'H', 'S', 'R', 'D', 'L', 'U', 'M', 'W', 'C', 'F', 'G', 'Y', 'P', 'B', 'V', 'K', \"'\", 'X', 'J', 'Q', 'Z')\n"
     ]
    }
   ],
   "source": [
    "'''\n",
    "Feature Extraction\n",
    "1) Wav2vec2 model\n",
    "'''\n",
    "bundle = torchaudio.pipelines.WAV2VEC2_ASR_BASE_960H # can choose another wav2vec2 model\n",
    "print(\"Sample rate: \", bundle.sample_rate)\n",
    "print(\"Labels: \", bundle.get_labels())\n",
    "model = bundle.get_model().to(device)\n",
    "\n",
    "# Example audio\n",
    "SPEECH_FILE = download_asset(\"tutorial-assets/Lab41-SRI-VOiCES-src-sp0307-ch127535-sg0042.wav\")\n",
    "IPython.display.Audio(SPEECH_FILE)\n",
    "waveform, sample_rate = torchaudio.load(SPEECH_FILE)\n",
    "waveform = waveform.to(device)\n",
    "# Resample example audio if its sample rate doesn't match the pipeline's sample rate\n",
    "if sample_rate != bundle.sample_rate:\n",
    "    print(\"Audio vs Bundle sample rate: \", sample_rate, bundle.sample_rate)\n",
    "    waveform = torchaudio.functional.resample(waveform, sample_rate, bundle.sample_rate)\n",
    "    \n",
    "# Extract features\n",
    "with torch.inference_mode():\n",
    "    features, _ = model.extract_features(waveform)\n",
    "    "
   ]
  },
  {
   "cell_type": "code",
   "execution_count": 23,
   "id": "7d89a9cb",
   "metadata": {},
   "outputs": [],
   "source": [
    "'''\n",
    "Feature Extraction\n",
    "2) Hand-crafted features: ZCR, RMSE, MFCC\n",
    "'''\n",
    "X, sample_rate = librosa.load('../Actor_01/03-01-01-01-01-01-01.wav')\n",
    "mfccs = np.mean(librosa.feature.mfcc(y=X, n_mfcc=25,), axis = 0)\n",
    "rms = librosa.feature.rms(y=X)\n",
    "zcr = librosa.feature.zero_crossing_rate(y=X)"
   ]
  },
  {
   "cell_type": "code",
   "execution_count": null,
   "id": "bf14d497",
   "metadata": {},
   "outputs": [],
   "source": []
  }
 ],
 "metadata": {
  "kernelspec": {
   "display_name": "Python 3 (ipykernel)",
   "language": "python",
   "name": "python3"
  },
  "language_info": {
   "codemirror_mode": {
    "name": "ipython",
    "version": 3
   },
   "file_extension": ".py",
   "mimetype": "text/x-python",
   "name": "python",
   "nbconvert_exporter": "python",
   "pygments_lexer": "ipython3",
   "version": "3.10.12"
  }
 },
 "nbformat": 4,
 "nbformat_minor": 5
}
