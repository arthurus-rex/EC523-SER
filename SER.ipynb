{
 "cells": [
  {
   "cell_type": "code",
   "execution_count": 8,
   "id": "2711227f",
   "metadata": {},
   "outputs": [
    {
     "name": "stdout",
     "output_type": "stream",
     "text": [
      "Defaulting to user installation because normal site-packages is not writeable\n",
      "Requirement already satisfied: librosa in /share/pkg.8/python3/3.10.12/install/lib/python3.10/site-packages (0.10.0.post2)\n",
      "Requirement already satisfied: audioread>=2.1.9 in /share/pkg.8/python3/3.10.12/install/lib/python3.10/site-packages (from librosa) (3.0.0)\n",
      "Requirement already satisfied: numpy!=1.22.0,!=1.22.1,!=1.22.2,>=1.20.3 in /share/pkg.8/python3/3.10.12/install/lib/python3.10/site-packages (from librosa) (1.24.4)\n",
      "Requirement already satisfied: scipy>=1.2.0 in /share/pkg.8/python3/3.10.12/install/lib/python3.10/site-packages (from librosa) (1.11.1)\n",
      "Requirement already satisfied: scikit-learn>=0.20.0 in /share/pkg.8/python3/3.10.12/install/lib/python3.10/site-packages (from librosa) (1.3.0)\n",
      "Requirement already satisfied: joblib>=0.14 in /share/pkg.8/python3/3.10.12/install/lib/python3.10/site-packages (from librosa) (1.3.1)\n",
      "Requirement already satisfied: decorator>=4.3.0 in /share/pkg.8/python3/3.10.12/install/lib/python3.10/site-packages (from librosa) (5.1.1)\n",
      "Requirement already satisfied: numba>=0.51.0 in /share/pkg.8/python3/3.10.12/install/lib/python3.10/site-packages (from librosa) (0.57.1)\n",
      "Requirement already satisfied: soundfile>=0.12.1 in /share/pkg.8/python3/3.10.12/install/lib/python3.10/site-packages (from librosa) (0.12.1)\n",
      "Requirement already satisfied: pooch<1.7,>=1.0 in /share/pkg.8/python3/3.10.12/install/lib/python3.10/site-packages (from librosa) (1.6.0)\n",
      "Requirement already satisfied: soxr>=0.3.2 in /share/pkg.8/python3/3.10.12/install/lib/python3.10/site-packages (from librosa) (0.3.5)\n",
      "Requirement already satisfied: typing-extensions>=4.1.1 in /share/pkg.7/pytorch/1.13.1/install/lib/python3.10/site-packages (from librosa) (4.4.0)\n",
      "Requirement already satisfied: lazy-loader>=0.1 in /share/pkg.8/python3/3.10.12/install/lib/python3.10/site-packages (from librosa) (0.3)\n",
      "Requirement already satisfied: msgpack>=1.0 in /share/pkg.8/python3/3.10.12/install/lib/python3.10/site-packages (from librosa) (1.0.5)\n",
      "Requirement already satisfied: llvmlite<0.41,>=0.40.0dev0 in /share/pkg.8/python3/3.10.12/install/lib/python3.10/site-packages (from numba>=0.51.0->librosa) (0.40.1)\n",
      "Requirement already satisfied: appdirs>=1.3.0 in /share/pkg.8/python3/3.10.12/install/lib/python3.10/site-packages (from pooch<1.7,>=1.0->librosa) (1.4.4)\n",
      "Requirement already satisfied: packaging>=20.0 in /share/pkg.8/python3/3.10.12/install/lib/python3.10/site-packages (from pooch<1.7,>=1.0->librosa) (23.1)\n",
      "Requirement already satisfied: requests>=2.19.0 in /share/pkg.8/python3/3.10.12/install/lib/python3.10/site-packages (from pooch<1.7,>=1.0->librosa) (2.31.0)\n",
      "Requirement already satisfied: threadpoolctl>=2.0.0 in /share/pkg.8/python3/3.10.12/install/lib/python3.10/site-packages (from scikit-learn>=0.20.0->librosa) (3.2.0)\n",
      "Requirement already satisfied: cffi>=1.0 in /share/pkg.8/python3/3.10.12/install/lib/python3.10/site-packages (from soundfile>=0.12.1->librosa) (1.15.1)\n",
      "Requirement already satisfied: pycparser in /share/pkg.8/python3/3.10.12/install/lib/python3.10/site-packages (from cffi>=1.0->soundfile>=0.12.1->librosa) (2.21)\n",
      "Requirement already satisfied: charset-normalizer<4,>=2 in /share/pkg.8/python3/3.10.12/install/lib/python3.10/site-packages (from requests>=2.19.0->pooch<1.7,>=1.0->librosa) (3.2.0)\n",
      "Requirement already satisfied: idna<4,>=2.5 in /share/pkg.8/python3/3.10.12/install/lib/python3.10/site-packages (from requests>=2.19.0->pooch<1.7,>=1.0->librosa) (3.4)\n",
      "Requirement already satisfied: urllib3<3,>=1.21.1 in /share/pkg.8/python3/3.10.12/install/lib/python3.10/site-packages (from requests>=2.19.0->pooch<1.7,>=1.0->librosa) (1.26.16)\n",
      "Requirement already satisfied: certifi>=2017.4.17 in /share/pkg.8/python3/3.10.12/install/lib/python3.10/site-packages (from requests>=2.19.0->pooch<1.7,>=1.0->librosa) (2023.5.7)\n",
      "Defaulting to user installation because normal site-packages is not writeable\n",
      "Collecting opendatasets\n",
      "  Downloading opendatasets-0.1.22-py3-none-any.whl.metadata (9.2 kB)\n",
      "Requirement already satisfied: tqdm in /share/pkg.8/python3/3.10.12/install/lib/python3.10/site-packages (from opendatasets) (4.65.0)\n",
      "Collecting kaggle (from opendatasets)\n",
      "  Downloading kaggle-1.6.8.tar.gz (84 kB)\n",
      "\u001b[2K     \u001b[90m━━━━━━━━━━━━━━━━━━━━━━━━━━━━━━━━━━━━━━━━\u001b[0m \u001b[32m84.6/84.6 kB\u001b[0m \u001b[31m9.2 MB/s\u001b[0m eta \u001b[36m0:00:00\u001b[0m\n",
      "\u001b[?25h  Preparing metadata (setup.py) ... \u001b[?25ldone\n",
      "\u001b[?25hRequirement already satisfied: click in /share/pkg.8/python3/3.10.12/install/lib/python3.10/site-packages (from opendatasets) (8.1.5)\n",
      "Requirement already satisfied: six>=1.10 in /share/pkg.8/python3/3.10.12/install/lib/python3.10/site-packages (from kaggle->opendatasets) (1.16.0)\n",
      "Collecting certifi>=2023.7.22 (from kaggle->opendatasets)\n",
      "  Downloading certifi-2024.2.2-py3-none-any.whl.metadata (2.2 kB)\n",
      "Requirement already satisfied: python-dateutil in /share/pkg.8/python3/3.10.12/install/lib/python3.10/site-packages (from kaggle->opendatasets) (2.8.2)\n",
      "Requirement already satisfied: requests in /share/pkg.8/python3/3.10.12/install/lib/python3.10/site-packages (from kaggle->opendatasets) (2.31.0)\n",
      "Requirement already satisfied: python-slugify in /share/pkg.8/python3/3.10.12/install/lib/python3.10/site-packages (from kaggle->opendatasets) (8.0.1)\n",
      "Requirement already satisfied: urllib3 in /share/pkg.8/python3/3.10.12/install/lib/python3.10/site-packages (from kaggle->opendatasets) (1.26.16)\n",
      "Requirement already satisfied: bleach in /share/pkg.8/python3/3.10.12/install/lib/python3.10/site-packages (from kaggle->opendatasets) (6.0.0)\n",
      "Requirement already satisfied: webencodings in /share/pkg.8/python3/3.10.12/install/lib/python3.10/site-packages (from bleach->kaggle->opendatasets) (0.5.1)\n",
      "Requirement already satisfied: text-unidecode>=1.3 in /share/pkg.8/python3/3.10.12/install/lib/python3.10/site-packages (from python-slugify->kaggle->opendatasets) (1.3)\n",
      "Requirement already satisfied: charset-normalizer<4,>=2 in /share/pkg.8/python3/3.10.12/install/lib/python3.10/site-packages (from requests->kaggle->opendatasets) (3.2.0)\n",
      "Requirement already satisfied: idna<4,>=2.5 in /share/pkg.8/python3/3.10.12/install/lib/python3.10/site-packages (from requests->kaggle->opendatasets) (3.4)\n",
      "Downloading opendatasets-0.1.22-py3-none-any.whl (15 kB)\n",
      "Downloading certifi-2024.2.2-py3-none-any.whl (163 kB)\n",
      "\u001b[2K   \u001b[90m━━━━━━━━━━━━━━━━━━━━━━━━━━━━━━━━━━━━━━━━\u001b[0m \u001b[32m163.8/163.8 kB\u001b[0m \u001b[31m27.9 MB/s\u001b[0m eta \u001b[36m0:00:00\u001b[0m\n",
      "\u001b[?25hBuilding wheels for collected packages: kaggle\n",
      "  Building wheel for kaggle (setup.py) ... \u001b[?25ldone\n",
      "\u001b[?25h  Created wheel for kaggle: filename=kaggle-1.6.8-py3-none-any.whl size=111967 sha256=439896fb9fcdcff8d5c4c31e33d61c928c26b59a4a419b176d257b7efa021c71\n",
      "  Stored in directory: /scratch/5845407.1.academic-gpu/pip-ephem-wheel-cache-1c94_chu/wheels/b3/86/2d/2df535a84838c858ca91a03805f9c3131573c8e777fd907689\n",
      "Successfully built kaggle\n",
      "Installing collected packages: certifi, kaggle, opendatasets\n",
      "\u001b[33m  WARNING: The script kaggle is installed in '/usr4/ugrad/jhua2/.local/bin' which is not on PATH.\n",
      "  Consider adding this directory to PATH or, if you prefer to suppress this warning, use --no-warn-script-location.\u001b[0m\u001b[33m\n",
      "\u001b[0mSuccessfully installed certifi-2024.2.2 kaggle-1.6.8 opendatasets-0.1.22\n",
      "cuda\n"
     ]
    }
   ],
   "source": [
    "# Import libraries\n",
    "import torch\n",
    "import torchaudio\n",
    "from torch.utils.data import Dataset, DataLoader\n",
    "import torch.nn as nn\n",
    "import torch.nn.functional as F\n",
    "import IPython\n",
    "import matplotlib.pyplot as plt\n",
    "from torchaudio.utils import download_asset\n",
    "import numpy as np\n",
    "\n",
    "!pip install librosa\n",
    "import librosa\n",
    "\n",
    "!pip install opendatasets\n",
    "\n",
    "device = torch.device(\"cuda\" if torch.cuda.is_available() else \"cpu\")\n",
    "print(device)"
   ]
  },
  {
   "cell_type": "code",
   "execution_count": 10,
   "id": "bf14d497",
   "metadata": {},
   "outputs": [
    {
     "name": "stdout",
     "output_type": "stream",
     "text": [
      "Please provide your Kaggle credentials to download this dataset. Learn more: http://bit.ly/kaggle-creds\n",
      "Your Kaggle username: jaylinlily\n",
      "Your Kaggle Key: ········\n",
      "Downloading berlin-database-of-emotional-speech-emodb.zip to ./datasets/berlin-database-of-emotional-speech-emodb\n"
     ]
    },
    {
     "name": "stderr",
     "output_type": "stream",
     "text": [
      "100%|██████████| 38.0M/38.0M [00:00<00:00, 69.9MB/s]\n"
     ]
    },
    {
     "name": "stdout",
     "output_type": "stream",
     "text": [
      "\n",
      "Please provide your Kaggle credentials to download this dataset. Learn more: http://bit.ly/kaggle-creds\n",
      "Your Kaggle username: jaylinlily\n",
      "Your Kaggle Key: ········\n",
      "Downloading toronto-emotional-speech-set-tess.zip to ./datasets/toronto-emotional-speech-set-tess\n"
     ]
    },
    {
     "name": "stderr",
     "output_type": "stream",
     "text": [
      "100%|██████████| 428M/428M [00:05<00:00, 81.7MB/s] \n"
     ]
    },
    {
     "name": "stdout",
     "output_type": "stream",
     "text": [
      "\n",
      "Please provide your Kaggle credentials to download this dataset. Learn more: http://bit.ly/kaggle-creds\n",
      "Your Kaggle username: jaylinlily\n",
      "Your Kaggle Key: ········\n",
      "Downloading cremad.zip to ./datasets/cremad\n"
     ]
    },
    {
     "name": "stderr",
     "output_type": "stream",
     "text": [
      "100%|██████████| 451M/451M [00:07<00:00, 65.4MB/s] \n"
     ]
    },
    {
     "name": "stdout",
     "output_type": "stream",
     "text": [
      "\n",
      "Please provide your Kaggle credentials to download this dataset. Learn more: http://bit.ly/kaggle-creds\n",
      "Your Kaggle username: jaylinlily\n",
      "Your Kaggle Key: ········\n",
      "Downloading ravdess-emotional-speech-audio.zip to ./datasets/ravdess-emotional-speech-audio\n"
     ]
    },
    {
     "name": "stderr",
     "output_type": "stream",
     "text": [
      "100%|██████████| 429M/429M [00:03<00:00, 114MB/s]  \n"
     ]
    },
    {
     "name": "stdout",
     "output_type": "stream",
     "text": [
      "\n",
      "Please provide your Kaggle credentials to download this dataset. Learn more: http://bit.ly/kaggle-creds\n",
      "Your Kaggle username: jaylinlily\n",
      "Your Kaggle Key: ········\n",
      "Downloading savee-database.zip to ./datasets/savee-database\n"
     ]
    },
    {
     "name": "stderr",
     "output_type": "stream",
     "text": [
      "100%|██████████| 215M/215M [00:03<00:00, 65.4MB/s] \n"
     ]
    },
    {
     "name": "stdout",
     "output_type": "stream",
     "text": [
      "\n",
      "Please provide your Kaggle credentials to download this dataset. Learn more: http://bit.ly/kaggle-creds\n",
      "Your Kaggle username: jaylinlily\n",
      "Your Kaggle Key: ········\n",
      "Downloading shemo-persian-speech-emotion-detection-database.zip to ./datasets/shemo-persian-speech-emotion-detection-database\n"
     ]
    },
    {
     "name": "stderr",
     "output_type": "stream",
     "text": [
      "100%|██████████| 829M/829M [00:12<00:00, 71.1MB/s] \n"
     ]
    },
    {
     "name": "stdout",
     "output_type": "stream",
     "text": [
      "\n",
      "tensor([ 9.1553e-05, -3.0518e-04, -7.9346e-04,  ..., -1.2207e-03,\n",
      "        -1.4343e-03, -1.5259e-03])\n",
      "anxiety\n",
      "                                                filename speaker_n intensity  \\\n",
      "0      ./datasets/berlin-database-of-emotional-speech...        16        NA   \n",
      "1      ./datasets/berlin-database-of-emotional-speech...        10        NA   \n",
      "2      ./datasets/berlin-database-of-emotional-speech...        16        NA   \n",
      "3      ./datasets/berlin-database-of-emotional-speech...        16        NA   \n",
      "4      ./datasets/berlin-database-of-emotional-speech...        14        NA   \n",
      "...                                                  ...       ...       ...   \n",
      "15692  ./datasets/shemo-persian-speech-emotion-detect...        56        NA   \n",
      "15693  ./datasets/shemo-persian-speech-emotion-detect...        12        NA   \n",
      "15694  ./datasets/shemo-persian-speech-emotion-detect...        12        NA   \n",
      "15695  ./datasets/shemo-persian-speech-emotion-detect...        04        NA   \n",
      "15696  ./datasets/shemo-persian-speech-emotion-detect...        12        NA   \n",
      "\n",
      "       emotion version language database  \n",
      "0      anxiety       a   german    emodb  \n",
      "1        bored       b   german    emodb  \n",
      "2        bored       a   german    emodb  \n",
      "3      neutral       b   german    emodb  \n",
      "4        bored       a   german    emodb  \n",
      "...        ...     ...      ...      ...  \n",
      "15692  neutral       5  persian    shemo  \n",
      "15693  neutral      70  persian    shemo  \n",
      "15694    anger       9  persian    shemo  \n",
      "15695  neutral      44  persian    shemo  \n",
      "15696    anger      68  persian    shemo  \n",
      "\n",
      "[15697 rows x 7 columns]\n"
     ]
    }
   ],
   "source": [
    "from torch.utils.data import DataLoader\n",
    "from dataset import download_datasets, SpeechEmotionDataset, get_dataset_info\n",
    "\n",
    "\n",
    "\n",
    "# Specify the directory you want the datasets to be contained in\n",
    "!mkdir -p datasets\n",
    "dataset_dir = \"./datasets\"\n",
    "\n",
    "\n",
    "# Only needed to run this code once\n",
    "'''\n",
    "# Download a single dataset\n",
    "download_datasets(dataset_dir, dname=\"emodb\")\n",
    "\n",
    "# Download the rest of the datasets available\n",
    "download_datasets(dataset_dir)\n",
    "'''\n",
    "\n",
    "# Acquire info on datasets (those that have functions to get data for)\n",
    "df = get_dataset_info(dataset_dir)\n",
    "\n",
    "# Make into a Dataset object that a pytorch optimizer can use\n",
    "# Can optionally specify a sampling rate for all audio files to be in\n",
    "trainset = SpeechEmotionDataset(df, fs=16000)\n",
    "\n",
    "# Check it works\n",
    "trainset = SpeechEmotionDataset(df, fs=16000)\n",
    "dataiter = iter(trainset)\n",
    "data, label = next(dataiter)\n",
    "print(data)\n",
    "print(label)\n",
    "print(df) # columns are: filename, speaker_n, intensity, emotion, version, language, database \n",
    "\n",
    "# Put into a dataloader\n",
    "trainloader = DataLoader(trainset, batch_size=4, shuffle=True, num_workers=1)\n"
   ]
  },
  {
   "cell_type": "code",
   "execution_count": 11,
   "id": "48199cbd",
   "metadata": {},
   "outputs": [
    {
     "name": "stdout",
     "output_type": "stream",
     "text": [
      "Sample rate:  16000\n",
      "Labels:  ('-', '|', 'E', 'T', 'A', 'O', 'N', 'I', 'H', 'S', 'R', 'D', 'L', 'U', 'M', 'W', 'C', 'F', 'G', 'Y', 'P', 'B', 'V', 'K', \"'\", 'X', 'J', 'Q', 'Z')\n"
     ]
    }
   ],
   "source": [
    "'''\n",
    "Feature Extraction\n",
    "1) Wav2vec2 model\n",
    "'''\n",
    "bundle = torchaudio.pipelines.WAV2VEC2_ASR_BASE_960H # can choose another wav2vec2 model\n",
    "print(\"Sample rate: \", bundle.sample_rate)\n",
    "print(\"Labels: \", bundle.get_labels())\n",
    "model = bundle.get_model().to(device)\n",
    "\n",
    "# Example audio\n",
    "SPEECH_FILE = download_asset(\"tutorial-assets/Lab41-SRI-VOiCES-src-sp0307-ch127535-sg0042.wav\")\n",
    "IPython.display.Audio(SPEECH_FILE)\n",
    "waveform, sample_rate = torchaudio.load(SPEECH_FILE)\n",
    "waveform = waveform.to(device)\n",
    "# Resample example audio if its sample rate doesn't match the pipeline's sample rate\n",
    "if sample_rate != bundle.sample_rate:\n",
    "    print(\"Audio vs Bundle sample rate: \", sample_rate, bundle.sample_rate)\n",
    "    waveform = torchaudio.functional.resample(waveform, sample_rate, bundle.sample_rate)\n",
    "    \n",
    "# Extract features\n",
    "with torch.inference_mode():\n",
    "    features, _ = model.extract_features(waveform)\n",
    "    "
   ]
  },
  {
   "cell_type": "code",
   "execution_count": 14,
   "id": "7d89a9cb",
   "metadata": {},
   "outputs": [],
   "source": [
    "'''\n",
    "Feature Extraction\n",
    "2) Hand-crafted features: ZCR, RMSE, MFCC\n",
    "'''\n",
    "X, sample_rate = librosa.load('./datasets/berlin-database-of-emotional-speech-emodb/wav/03a01Fa.wav')\n",
    "mfccs = np.mean(librosa.feature.mfcc(y=X, n_mfcc=25,), axis = 0) # calculating mean?\n",
    "rms = librosa.feature.rms(y=X) # root mean square value for each frame of audio sample\n",
    "zcr = librosa.feature.zero_crossing_rate(y=X) # zero crossing rate of audio time series"
   ]
  },
  {
   "cell_type": "code",
   "execution_count": 15,
   "id": "7f85300f",
   "metadata": {},
   "outputs": [
    {
     "data": {
      "text/plain": [
       "<librosa.display.AdaptiveWaveplot at 0x15412202c280>"
      ]
     },
     "execution_count": 15,
     "metadata": {},
     "output_type": "execute_result"
    },
    {
     "data": {
      "image/png": "[encoded data removed]",
      "text/plain": [
       "<Figure size 1000x500 with 1 Axes>"
      ]
     },
     "metadata": {},
     "output_type": "display_data"
    }
   ],
   "source": [
    "# Let's visualize what we are doing!\n",
    "# some of this code taken from https://github.com/MiteshPuthran/Speech-Emotion-Analyzer/blob/master/final_results_gender_test.ipynb\n",
    "import librosa.display\n",
    "import matplotlib.pyplot as plt\n",
    "\n",
    "plt.figure(figsize=(10,5))\n",
    "librosa.display.waveshow(X, sr=sample_rate)"
   ]
  },
  {
   "cell_type": "code",
   "execution_count": 18,
   "id": "aae3d827",
   "metadata": {},
   "outputs": [],
   "source": [
    "# putting features into dataframes\n",
    "import os\n",
    "\n",
    "# needs \"/\" at end of filepath\n",
    "data_filepath = \"./datasets/berlin-database-of-emotional-speech-emodb/wav/\"\n",
    "\n",
    "database_name = \"berlin-database-of-emotional-speech-emodb\"\n",
    "filenames_list = os.listdir(data_filepath) # filenames without full filepath\n",
    "full_filenames_list = [data_filepath + filename for filename in filenames_list] # adding full filepath"
   ]
  },
  {
   "cell_type": "code",
   "execution_count": 19,
   "id": "17112979",
   "metadata": {},
   "outputs": [
    {
     "name": "stdout",
     "output_type": "stream",
     "text": [
      "        filename                                              mfccs  \\\n",
      "0    16b01Aa.wav  [-14.780913, -14.325403, -13.693046, -13.05944...   \n",
      "1    10b09Lb.wav  [-11.474661, -9.416283, -9.904519, -10.41776, ...   \n",
      "2    16a05La.wav  [-14.149419, -11.2464285, -8.616501, -8.848203...   \n",
      "3    16a02Nb.wav  [-12.976416, -12.096367, -8.972505, -7.3359556...   \n",
      "4    14a02La.wav  [-11.86352, -10.168923, -10.589436, -11.380253...   \n",
      "..           ...                                                ...   \n",
      "530  08b10La.wav  [-10.3835335, -7.8500013, -6.9223866, -3.99789...   \n",
      "531  16b03La.wav  [-15.408475, -12.201984, -11.546626, -11.74224...   \n",
      "532  12b02Fb.wav  [-18.119234, -7.136423, -3.4530761, -4.165739,...   \n",
      "533  13a05Ea.wav  [-7.609747, -6.5680695, -5.8979325, -6.145536,...   \n",
      "534  13b09Wa.wav  [-16.652184, -16.380753, -15.454414, -12.80498...   \n",
      "\n",
      "                                                   rms  \\\n",
      "0    [[0.0009390469, 0.001251537, 0.0014829956, 0.0...   \n",
      "1    [[0.002468433, 0.0026285178, 0.0029226877, 0.0...   \n",
      "2    [[0.001259113, 0.0069509973, 0.028159384, 0.06...   \n",
      "3    [[0.0015351741, 0.008724172, 0.04540591, 0.086...   \n",
      "4    [[0.0030758574, 0.0031758535, 0.003902222, 0.0...   \n",
      "..                                                 ...   \n",
      "530  [[0.0039746906, 0.004723523, 0.013538511, 0.03...   \n",
      "531  [[0.0010636328, 0.0013595184, 0.0016803497, 0....   \n",
      "532  [[0.004595412, 0.012777808, 0.032219317, 0.055...   \n",
      "533  [[0.010170098, 0.012149153, 0.013322965, 0.017...   \n",
      "534  [[0.00037988424, 0.000489194, 0.0012323102, 0....   \n",
      "\n",
      "                                                   zcr  emotion  \n",
      "0    [[0.0380859375, 0.0498046875, 0.05615234375, 0...  anxiety  \n",
      "1    [[0.01220703125, 0.0224609375, 0.0263671875, 0...    bored  \n",
      "2    [[0.0068359375, 0.0283203125, 0.044921875, 0.0...    bored  \n",
      "3    [[0.0439453125, 0.099609375, 0.1142578125, 0.1...  neutral  \n",
      "4    [[0.0263671875, 0.03173828125, 0.03173828125, ...    bored  \n",
      "..                                                 ...      ...  \n",
      "530  [[0.0146484375, 0.02197265625, 0.080078125, 0....    bored  \n",
      "531  [[0.0849609375, 0.11572265625, 0.1669921875, 0...    bored  \n",
      "532  [[0.1533203125, 0.22216796875, 0.31201171875, ...    happy  \n",
      "533  [[0.01025390625, 0.0146484375, 0.01708984375, ...  disgust  \n",
      "534  [[0.02783203125, 0.04150390625, 0.0673828125, ...    anger  \n",
      "\n",
      "[535 rows x 5 columns]\n"
     ]
    }
   ],
   "source": [
    "# extract features of all audio files into a dataframe\n",
    "import pandas as pd\n",
    "\n",
    "features_df = pd.DataFrame(columns=['filename', 'mfccs', 'rms', 'zcr', 'emotion'])\n",
    "\n",
    "# works for a single folder of audio files at once, all from the same dataset\n",
    "for i, filename in enumerate(full_filenames_list):\n",
    "    X, sample_rate = librosa.load(filename) # load waveform\n",
    "    mfccs = np.mean(librosa.feature.mfcc(y=X, n_mfcc=25,), axis = 0) # calculate feature values\n",
    "    rms = librosa.feature.rms(y=X)\n",
    "    zcr = librosa.feature.zero_crossing_rate(y=X)\n",
    "    features_df.at[i, 'mfccs'] = mfccs # save X features to dataframe\n",
    "    features_df.at[i, 'rms'] = np.array(rms)\n",
    "    features_df.at[i, 'zcr'] = np.array(zcr)\n",
    "    \n",
    "    row_index = df.loc[df['filename'] == filename].index[0] # finding the correct emotion for the filename\n",
    "    features_df.at[i, 'emotion'] = df.at[row_index,'emotion'] # selects correct emotion from Noah's df\n",
    "    \n",
    "    split_name = filename.split('/') # get the correct filename\n",
    "    features_df.at[i, 'filename'] = split_name[-1]\n",
    "    \n",
    "    #features_df.at[i,'emotion'] = df.loc['im','emotion']\n",
    "\n",
    "#features_df = pd.concat([features_df, labels_df], axis=1)\n",
    "print(features_df)"
   ]
  },
  {
   "cell_type": "code",
   "execution_count": 33,
   "id": "7aadf0e0",
   "metadata": {},
   "outputs": [
    {
     "name": "stdout",
     "output_type": "stream",
     "text": [
      "        filename                                              mfccs  \\\n",
      "284  03b02Aa.wav  [-14.079135, -12.323546, -11.474248, -9.09061,...   \n",
      "347  12b03Ta.wav  [-9.775077, -7.466317, -6.8036146, -6.629843, ...   \n",
      "440  13b02Nb.wav  [-9.2703085, -7.783403, -7.8381305, -6.5176373...   \n",
      "421  14b10Lb.wav  [-14.253737, -13.220742, -10.550857, -8.464507...   \n",
      "149  11b01Fc.wav  [-16.935766, -15.290205, -14.847381, -13.48610...   \n",
      "..           ...                                                ...   \n",
      "71   13a04Wc.wav  [-17.091368, -14.799666, -13.599548, -13.60320...   \n",
      "106  16b03Ad.wav  [-15.301025, -13.604454, -14.486785, -15.71678...   \n",
      "270  09b03Nb.wav  [-9.124634, -8.144319, -8.019176, -7.788812, -...   \n",
      "435  14a04Tc.wav  [-10.157893, -7.504263, -6.495217, -6.782695, ...   \n",
      "102  08b03Fe.wav  [-14.783207, -14.364163, -13.856281, -13.53113...   \n",
      "\n",
      "                                                   rms  \\\n",
      "284  [[0.0013622892, 0.0019244545, 0.0062129647, 0....   \n",
      "347  [[0.007245047, 0.011252102, 0.013342347, 0.017...   \n",
      "440  [[0.005388466, 0.007304628, 0.008596973, 0.014...   \n",
      "421  [[0.0009580753, 0.0021076025, 0.0031811625, 0....   \n",
      "149  [[0.00056565506, 0.0007321395, 0.0012822378, 0...   \n",
      "..                                                 ...   \n",
      "71   [[0.00072822947, 0.00081294, 0.0010067298, 0.0...   \n",
      "106  [[0.000528787, 0.0006213201, 0.001090527, 0.01...   \n",
      "270  [[0.004337546, 0.0060529415, 0.0071090045, 0.0...   \n",
      "435  [[0.01571129, 0.017804034, 0.018841198, 0.0197...   \n",
      "102  [[0.001352824, 0.0015487866, 0.0016961781, 0.0...   \n",
      "\n",
      "                                                   zcr  emotion  \n",
      "284  [[0.03466796875, 0.06787109375, 0.1435546875, ...  anxiety  \n",
      "347  [[0.01220703125, 0.01220703125, 0.0244140625, ...  sadness  \n",
      "440  [[0.013671875, 0.013671875, 0.01708984375, 0.1...  neutral  \n",
      "421  [[0.00927734375, 0.0126953125, 0.02587890625, ...    bored  \n",
      "149  [[0.0498046875, 0.06591796875, 0.13037109375, ...    happy  \n",
      "..                                                 ...      ...  \n",
      "71   [[0.06884765625, 0.076171875, 0.09765625, 0.10...    anger  \n",
      "106  [[0.02783203125, 0.0576171875, 0.09033203125, ...  anxiety  \n",
      "270  [[0.00341796875, 0.0068359375, 0.01025390625, ...  neutral  \n",
      "435  [[0.0, 0.001953125, 0.00244140625, 0.002441406...  sadness  \n",
      "102  [[0.00341796875, 0.005859375, 0.00830078125, 0...    happy  \n",
      "\n",
      "[428 rows x 5 columns]\n"
     ]
    }
   ],
   "source": [
    "# Now let's shuffle these boiz\n",
    "from sklearn.model_selection import train_test_split\n",
    "\n",
    "train, test = train_test_split(features_df, test_size=0.2, random_state=42, shuffle=True)\n"
   ]
  },
  {
   "cell_type": "code",
   "execution_count": 20,
   "id": "4f713cc8",
   "metadata": {},
   "outputs": [],
   "source": [
    "import torch\n",
    "import torchvision\n",
    "import matplotlib.pyplot as plt\n",
    "import numpy as np\n",
    "import os\n",
    "import torchvision.transforms as transforms\n",
    "import torch.nn as nn\n",
    "import torch.nn.functional as F\n",
    "import torch.optim as optim\n",
    "\n",
    "%matplotlib inline\n",
    "\n",
    "from torchvision import datasets\n",
    "from sklearn.metrics import f1_score, accuracy_score, recall_score, precision_score"
   ]
  },
  {
   "cell_type": "code",
   "execution_count": 21,
   "id": "b2e988ac",
   "metadata": {},
   "outputs": [],
   "source": [
    "seed = 42\n",
    "torch.manual_seed(seed)\n",
    "if torch.cuda.is_available():\n",
    "    torch.cuda.manual_seed_all(seed)"
   ]
  },
  {
   "cell_type": "code",
   "execution_count": 22,
   "id": "b65a6f9f",
   "metadata": {},
   "outputs": [],
   "source": [
    "\"\"\"\n",
    "Building Network architecture based on the paper:\n",
    "Human–Computer Interaction with a Real-Time Speech\n",
    "Emotion Recognition with Ensembling Techniques 1D\n",
    "Convolution Neural Network and Attention\n",
    "(https://doi.org/10.3390/s23031386)\n",
    "\n",
    "We are taking the output of CNN as the input of LSTM.\n",
    "CNN captures local patterns in audio features, and\n",
    "LSTM learns temporal dependencies before making final prediction. This supports\n",
    "robust sequence prediction.\n",
    "\"\"\"\n",
    "\n",
    "import torch.nn as nn\n",
    "import torch.nn.functional as F\n",
    "\n",
    "class CNN_LSTM(nn.Module):\n",
    "    def __init__(self):\n",
    "        super(CNN_LSTM, self).__init__()\n",
    "        # bn = batch normalization\n",
    "        ####################\n",
    "        # Convolution blocks: 1dconv, batch norm, ReLU, max pooling\n",
    "        # Conv block 1\n",
    "        self.conv1 = nn.Conv1d(in_channels = 3, out_channels = 8, kernel_size = 3, padding = 1)\n",
    "        self.bn1 = nn.BatchNorm1d(8)\n",
    "\n",
    "        # Conv block 2\n",
    "        self.conv2 = nn.Conv1d(in_channels = 8, out_channels = 16, kernel_size = 3, padding = 1)\n",
    "        self.bn2 = nn.BatchNorm1d(16)\n",
    "\n",
    "        # Conv block 3\n",
    "        self.conv3 = nn.Conv1d(in_channels = 16, out_channels = 32, kernel_size = 3, padding = 1)\n",
    "        self.bn3 = nn.BatchNorm1d(32)\n",
    "\n",
    "        # Conv block 4\n",
    "        self.conv4 = nn.Conv1d(in_channels = 32, out_channels = 64, kernel_size = 3, padding = 1)\n",
    "        self.bn4 = nn.BatchNorm1d(64)\n",
    "\n",
    "        # Conv block 5\n",
    "        self.conv5 = nn.Conv1d(in_channels = 64, out_channels = 128, kernel_size = 3, padding = 1)\n",
    "        self.bn5 = nn.BatchNorm1d(128)\n",
    "\n",
    "        self.relu = nn.ReLU()\n",
    "        self.pool = nn.MaxPool1d(kernel_size = 2, stride = 2)\n",
    "        ####################\n",
    "\n",
    "        ####################\n",
    "        # LSTM + attention block\n",
    "        self.lstm1 = nn.LSTM(input_size = 128, hidden_size = 64, num_layers = 1, bias = True)\n",
    "\n",
    "        self.attention = nn.Linear(64, 1)\n",
    "        self.softmax = nn.Softmax(dim=1)\n",
    "\n",
    "        self.lstm2 = nn.LSTM(input_size = 64, hidden_size = 64, num_layers = 1, bias = True)\n",
    "        ####################\n",
    "\n",
    "\n",
    "        self.fc1 = nn.Linear(64, 32) # May need to increase 32 to capture more complex data (?)\n",
    "        self.bn6 = nn.BatchNorm1d(32)\n",
    "        self.fc2 = nn.Linear(32, 16)\n",
    "\n",
    "\n",
    "    def forward(self, x):\n",
    "        # Conv block 1\n",
    "        x = self.conv1(x)\n",
    "        x = self.bn1(x)\n",
    "        x = self.relu(x)\n",
    "        x = self.pool(x)\n",
    "\n",
    "        # Conv block 2\n",
    "        x = self.conv2(x)\n",
    "        x = self.bn2(x)\n",
    "        x = self.relu(x)\n",
    "        x = self.pool(x)\n",
    "\n",
    "        # Conv block 3\n",
    "        x = self.conv3(x)\n",
    "        x = self.bn3(x)\n",
    "        x = self.relu(x)\n",
    "        x = self.pool(x)\n",
    "\n",
    "        # Conv block 4\n",
    "        x = self.conv4(x)\n",
    "        x = self.bn4(x)\n",
    "        x = self.relu(x)\n",
    "        x = self.pool(x)\n",
    "\n",
    "        # Conv block 5\n",
    "        x = self.conv5(x)\n",
    "        x = self.bn5(x)\n",
    "        x = self.relu(x)\n",
    "        x = self.pool(x)\n",
    "\n",
    "        # LSTM + attention block\n",
    "        # output_tensor, hiddenstate = self.lstm()\n",
    "        lstm1_out, _ = self.lstm1(x)\n",
    "\n",
    "        attention_weights = self.softmax(self.attention(lstm1_out))\n",
    "        context = torch.sum(attention_weights * lstm1_out, dim=1)\n",
    "\n",
    "        lstm2_out, _ = self.lstm2(context.unsqueeze(-1))\n",
    "\n",
    "        # fully connected layers and softmax\n",
    "        x = self.fc1(lstm2_out.squeeze(1))\n",
    "        x = self.bn6(x)\n",
    "        x = self.fc2(x)\n",
    "\n",
    "        # Softmax for prediction\n",
    "        # F.softmax is used instead of self.softmax because it is not associated\n",
    "        # with any parameters\n",
    "        x = F.softmax(x, dim=1)\n",
    "\n",
    "        return x"
   ]
  },
  {
   "cell_type": "code",
   "execution_count": 23,
   "id": "5d571cc1",
   "metadata": {},
   "outputs": [],
   "source": [
    "device = torch.device('cuda' if torch.cuda.is_available() else 'cpu')\n",
    "\n",
    "net =  CNN_LSTM().to(device)\n",
    "criterion = nn.CrossEntropyLoss()\n",
    "optimizer =  optim.Adam(net.parameters(), lr=1e-4)"
   ]
  },
  {
   "cell_type": "code",
   "execution_count": 36,
   "id": "2ea1b57e",
   "metadata": {},
   "outputs": [
    {
     "ename": "AttributeError",
     "evalue": "'tuple' object has no attribute 'to'",
     "output_type": "error",
     "traceback": [
      "\u001b[0;31m---------------------------------------------------------------------------\u001b[0m",
      "\u001b[0;31mAttributeError\u001b[0m                            Traceback (most recent call last)",
      "Cell \u001b[0;32mIn[36], line 31\u001b[0m\n\u001b[1;32m     28\u001b[0m     \u001b[38;5;28;01mreturn\u001b[39;00m net\n\u001b[1;32m     30\u001b[0m trainloader \u001b[38;5;241m=\u001b[39m DataLoader(trainset, batch_size\u001b[38;5;241m=\u001b[39m\u001b[38;5;241m1\u001b[39m, shuffle\u001b[38;5;241m=\u001b[39m\u001b[38;5;28;01mTrue\u001b[39;00m, num_workers\u001b[38;5;241m=\u001b[39m\u001b[38;5;241m1\u001b[39m)\n\u001b[0;32m---> 31\u001b[0m net \u001b[38;5;241m=\u001b[39m \u001b[43mtrain_on_features\u001b[49m\u001b[43m(\u001b[49m\u001b[43mnet\u001b[49m\u001b[43m,\u001b[49m\u001b[43m \u001b[49m\u001b[43moptimizer\u001b[49m\u001b[43m,\u001b[49m\u001b[43m \u001b[49m\u001b[43mdevice\u001b[49m\u001b[43m,\u001b[49m\u001b[43m \u001b[49m\u001b[43mtrainloader\u001b[49m\u001b[43m,\u001b[49m\u001b[43m \u001b[49m\u001b[43mcriterion\u001b[49m\u001b[43m)\u001b[49m\n",
      "Cell \u001b[0;32mIn[36], line 14\u001b[0m, in \u001b[0;36mtrain_on_features\u001b[0;34m(net, optimizer, device, trainloader, critrerion, epochs)\u001b[0m\n\u001b[1;32m     12\u001b[0m \u001b[38;5;28;01mfor\u001b[39;00m i, data \u001b[38;5;129;01min\u001b[39;00m \u001b[38;5;28menumerate\u001b[39m(trainloader):\n\u001b[1;32m     13\u001b[0m     inputs, labels \u001b[38;5;241m=\u001b[39m data\n\u001b[0;32m---> 14\u001b[0m     inputs, labels \u001b[38;5;241m=\u001b[39m inputs\u001b[38;5;241m.\u001b[39mto(device), \u001b[43mlabels\u001b[49m\u001b[38;5;241;43m.\u001b[39;49m\u001b[43mto\u001b[49m(device)\n\u001b[1;32m     16\u001b[0m     optimizer\u001b[38;5;241m.\u001b[39mzero_grad()\n\u001b[1;32m     18\u001b[0m     pred \u001b[38;5;241m=\u001b[39m net(inputs)\n",
      "\u001b[0;31mAttributeError\u001b[0m: 'tuple' object has no attribute 'to'"
     ]
    }
   ],
   "source": [
    "# Training loop\n",
    "root_dir = './runs'\n",
    "os.makedirs(root_dir, exist_ok=True)\n",
    "\n",
    "def train_on_features(net, optimizer, device, trainloader, critrerion, epochs=1):\n",
    "    if torch.cuda.is_available():\n",
    "        net.cuda()\n",
    "    net.train()\n",
    "\n",
    "    loss_min = float('inf')\n",
    "    for epoch in range(epochs):\n",
    "        for i, data in enumerate(trainloader):\n",
    "            inputs, labels = data\n",
    "            inputs, labels = inputs.to(device), labels.to(device)\n",
    "\n",
    "            optimizer.zero_grad()\n",
    "\n",
    "            pred = net(inputs)\n",
    "            loss = criterion(pred, labels)\n",
    "            loss.backward()\n",
    "            optimizer.step()\n",
    "            \n",
    "            if loss < loss_min:\n",
    "                torch.save(net.state_dict(), os.path.join(root_dir, \"best_ser_model.pth\"))\n",
    "\n",
    "\n",
    "    print('Finished Training')\n",
    "    return net\n",
    "\n",
    "net = train_on_features(net, optimizer, device, trainloader, criterion)"
   ]
  },
  {
   "cell_type": "code",
   "execution_count": 37,
   "id": "724f9822",
   "metadata": {},
   "outputs": [
    {
     "name": "stdout",
     "output_type": "stream",
     "text": [
      "(tensor([ 9.1553e-05, -3.0518e-04, -7.9346e-04,  ..., -1.2207e-03,\n",
      "        -1.4343e-03, -1.5259e-03]), 'anxiety')\n"
     ]
    }
   ],
   "source": [
    "#net = train_on_features(net, optimizer, device, trainloader, criterion)\n",
    "# trainloader = DataLoader(trainset, batch_size=1, shuffle=True, num_workers=1)\n",
    "# for i, data in enumerate(trainloader):\n",
    "#     print(data)\n",
    "print(trainset[0])"
   ]
  },
  {
   "cell_type": "code",
   "execution_count": null,
   "id": "80d64990",
   "metadata": {},
   "outputs": [],
   "source": []
  }
 ],
 "metadata": {
  "kernelspec": {
   "display_name": "Python 3 (ipykernel)",
   "language": "python",
   "name": "python3"
  },
  "language_info": {
   "codemirror_mode": {
    "name": "ipython",
    "version": 3
   },
   "file_extension": ".py",
   "mimetype": "text/x-python",
   "name": "python",
   "nbconvert_exporter": "python",
   "pygments_lexer": "ipython3",
   "version": "3.10.12"
  }
 },
 "nbformat": 4,
 "nbformat_minor": 5
}
